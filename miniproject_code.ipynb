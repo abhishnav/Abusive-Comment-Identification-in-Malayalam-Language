{
 "cells": [
  {
   "cell_type": "code",
   "execution_count": 1,
   "metadata": {},
   "outputs": [
    {
     "name": "stderr",
     "output_type": "stream",
     "text": [
      "c:\\ProgramData\\Anaconda3\\lib\\site-packages\\scipy\\__init__.py:155: UserWarning: A NumPy version >=1.18.5 and <1.25.0 is required for this version of SciPy (detected version 1.26.1\n",
      "  warnings.warn(f\"A NumPy version >={np_minversion} and <{np_maxversion}\"\n"
     ]
    }
   ],
   "source": [
    "import pandas as pd\n",
    "import numpy as np\n",
    "from sklearn.model_selection import train_test_split\n",
    "from sklearn.metrics import accuracy_score, classification_report\n",
    "from transformers import BertTokenizer, BertModel\n",
    "import torch\n",
    "import joblib"
   ]
  },
  {
   "cell_type": "code",
   "execution_count": 2,
   "metadata": {},
   "outputs": [],
   "source": [
    "# Load your dataset with Malayalam and Malayalam-English mixed comment\n",
    "data = pd.read_csv(r\"Dataset.csv\")\n"
   ]
  },
  {
   "cell_type": "code",
   "execution_count": 3,
   "metadata": {},
   "outputs": [
    {
     "data": {
      "text/html": [
       "<div>\n",
       "<style scoped>\n",
       "    .dataframe tbody tr th:only-of-type {\n",
       "        vertical-align: middle;\n",
       "    }\n",
       "\n",
       "    .dataframe tbody tr th {\n",
       "        vertical-align: top;\n",
       "    }\n",
       "\n",
       "    .dataframe thead th {\n",
       "        text-align: right;\n",
       "    }\n",
       "</style>\n",
       "<table border=\"1\" class=\"dataframe\">\n",
       "  <thead>\n",
       "    <tr style=\"text-align: right;\">\n",
       "      <th></th>\n",
       "      <th>comments</th>\n",
       "      <th>labels</th>\n",
       "    </tr>\n",
       "  </thead>\n",
       "  <tbody>\n",
       "    <tr>\n",
       "      <th>0</th>\n",
       "      <td>December 12 inn katta waitingullar like poad</td>\n",
       "      <td>Not_offensive</td>\n",
       "    </tr>\n",
       "    <tr>\n",
       "      <th>1</th>\n",
       "      <td>Jobi jorge padam ano. Potti mone</td>\n",
       "      <td>Offensive_Targeted_Insult_Individual</td>\n",
       "    </tr>\n",
       "    <tr>\n",
       "      <th>2</th>\n",
       "      <td>Cinema kanditum idakku idakku keri trailer kanund</td>\n",
       "      <td>Not_offensive</td>\n",
       "    </tr>\n",
       "    <tr>\n",
       "      <th>3</th>\n",
       "      <td>ജിമിട്ടൊളികൾ ഇപ്പോളെ unlike അടിച്ചു തുടങ്ങി  അ...</td>\n",
       "      <td>Offensive_Targeted_Insult_Group</td>\n",
       "    </tr>\n",
       "    <tr>\n",
       "      <th>4</th>\n",
       "      <td>Muriyandikal pannikuutatam pole thurimezhukuva...</td>\n",
       "      <td>Offensive_Targeted_Insult_Group</td>\n",
       "    </tr>\n",
       "    <tr>\n",
       "      <th>...</th>\n",
       "      <td>...</td>\n",
       "      <td>...</td>\n",
       "    </tr>\n",
       "    <tr>\n",
       "      <th>4492</th>\n",
       "      <td>```HIGH VOLTAGE INSIDE.. UNAUTHORIZED PERSONS ...</td>\n",
       "      <td>not-malayalam</td>\n",
       "    </tr>\n",
       "    <tr>\n",
       "      <th>4493</th>\n",
       "      <td>ഇത് നയൻതാരയ്ക്ക് വെച്ച റോൾ ആയിരുന്നില്ലേ   Any...</td>\n",
       "      <td>Not_offensive</td>\n",
       "    </tr>\n",
       "    <tr>\n",
       "      <th>4494</th>\n",
       "      <td>open for online job for students</td>\n",
       "      <td>not-malayalam</td>\n",
       "    </tr>\n",
       "    <tr>\n",
       "      <th>4495</th>\n",
       "      <td>Like a tamil and Telugu movie</td>\n",
       "      <td>not-malayalam</td>\n",
       "    </tr>\n",
       "    <tr>\n",
       "      <th>4496</th>\n",
       "      <td>Guys ente channel onnu subscribe cheyyaamo 🥰</td>\n",
       "      <td>Not_offensive</td>\n",
       "    </tr>\n",
       "  </tbody>\n",
       "</table>\n",
       "<p>4497 rows × 2 columns</p>\n",
       "</div>"
      ],
      "text/plain": [
       "                                               comments  \\\n",
       "0          December 12 inn katta waitingullar like poad   \n",
       "1                      Jobi jorge padam ano. Potti mone   \n",
       "2     Cinema kanditum idakku idakku keri trailer kanund   \n",
       "3     ജിമിട്ടൊളികൾ ഇപ്പോളെ unlike അടിച്ചു തുടങ്ങി  അ...   \n",
       "4     Muriyandikal pannikuutatam pole thurimezhukuva...   \n",
       "...                                                 ...   \n",
       "4492  ```HIGH VOLTAGE INSIDE.. UNAUTHORIZED PERSONS ...   \n",
       "4493  ഇത് നയൻതാരയ്ക്ക് വെച്ച റോൾ ആയിരുന്നില്ലേ   Any...   \n",
       "4494                   open for online job for students   \n",
       "4495                      Like a tamil and Telugu movie   \n",
       "4496       Guys ente channel onnu subscribe cheyyaamo 🥰   \n",
       "\n",
       "                                    labels  \n",
       "0                            Not_offensive  \n",
       "1     Offensive_Targeted_Insult_Individual  \n",
       "2                            Not_offensive  \n",
       "3          Offensive_Targeted_Insult_Group  \n",
       "4          Offensive_Targeted_Insult_Group  \n",
       "...                                    ...  \n",
       "4492                         not-malayalam  \n",
       "4493                         Not_offensive  \n",
       "4494                         not-malayalam  \n",
       "4495                         not-malayalam  \n",
       "4496                         Not_offensive  \n",
       "\n",
       "[4497 rows x 2 columns]"
      ]
     },
     "execution_count": 3,
     "metadata": {},
     "output_type": "execute_result"
    }
   ],
   "source": [
    "data"
   ]
  },
  {
   "cell_type": "code",
   "execution_count": 4,
   "metadata": {},
   "outputs": [
    {
     "data": {
      "text/plain": [
       "Index(['comments', 'labels'], dtype='object')"
      ]
     },
     "execution_count": 4,
     "metadata": {},
     "output_type": "execute_result"
    }
   ],
   "source": [
    "data.columns"
   ]
  },
  {
   "cell_type": "code",
   "execution_count": 5,
   "metadata": {},
   "outputs": [
    {
     "data": {
      "text/html": [
       "<div>\n",
       "<style scoped>\n",
       "    .dataframe tbody tr th:only-of-type {\n",
       "        vertical-align: middle;\n",
       "    }\n",
       "\n",
       "    .dataframe tbody tr th {\n",
       "        vertical-align: top;\n",
       "    }\n",
       "\n",
       "    .dataframe thead th {\n",
       "        text-align: right;\n",
       "    }\n",
       "</style>\n",
       "<table border=\"1\" class=\"dataframe\">\n",
       "  <thead>\n",
       "    <tr style=\"text-align: right;\">\n",
       "      <th></th>\n",
       "      <th>comments</th>\n",
       "      <th>labels</th>\n",
       "    </tr>\n",
       "  </thead>\n",
       "  <tbody>\n",
       "    <tr>\n",
       "      <th>0</th>\n",
       "      <td>December 12 inn katta waitingullar like poad</td>\n",
       "      <td>Not_offensive</td>\n",
       "    </tr>\n",
       "    <tr>\n",
       "      <th>1</th>\n",
       "      <td>Jobi jorge padam ano. Potti mone</td>\n",
       "      <td>Offensive_Targeted_Insult_Individual</td>\n",
       "    </tr>\n",
       "    <tr>\n",
       "      <th>2</th>\n",
       "      <td>Cinema kanditum idakku idakku keri trailer kanund</td>\n",
       "      <td>Not_offensive</td>\n",
       "    </tr>\n",
       "    <tr>\n",
       "      <th>3</th>\n",
       "      <td>ജിമിട്ടൊളികൾ ഇപ്പോളെ unlike അടിച്ചു തുടങ്ങി  അ...</td>\n",
       "      <td>Offensive_Targeted_Insult_Group</td>\n",
       "    </tr>\n",
       "    <tr>\n",
       "      <th>4</th>\n",
       "      <td>Muriyandikal pannikuutatam pole thurimezhukuva...</td>\n",
       "      <td>Offensive_Targeted_Insult_Group</td>\n",
       "    </tr>\n",
       "    <tr>\n",
       "      <th>...</th>\n",
       "      <td>...</td>\n",
       "      <td>...</td>\n",
       "    </tr>\n",
       "    <tr>\n",
       "      <th>4492</th>\n",
       "      <td>```HIGH VOLTAGE INSIDE.. UNAUTHORIZED PERSONS ...</td>\n",
       "      <td>not-malayalam</td>\n",
       "    </tr>\n",
       "    <tr>\n",
       "      <th>4493</th>\n",
       "      <td>ഇത് നയൻതാരയ്ക്ക് വെച്ച റോൾ ആയിരുന്നില്ലേ   Any...</td>\n",
       "      <td>Not_offensive</td>\n",
       "    </tr>\n",
       "    <tr>\n",
       "      <th>4494</th>\n",
       "      <td>open for online job for students</td>\n",
       "      <td>not-malayalam</td>\n",
       "    </tr>\n",
       "    <tr>\n",
       "      <th>4495</th>\n",
       "      <td>Like a tamil and Telugu movie</td>\n",
       "      <td>not-malayalam</td>\n",
       "    </tr>\n",
       "    <tr>\n",
       "      <th>4496</th>\n",
       "      <td>Guys ente channel onnu subscribe cheyyaamo 🥰</td>\n",
       "      <td>Not_offensive</td>\n",
       "    </tr>\n",
       "  </tbody>\n",
       "</table>\n",
       "<p>4497 rows × 2 columns</p>\n",
       "</div>"
      ],
      "text/plain": [
       "                                               comments  \\\n",
       "0          December 12 inn katta waitingullar like poad   \n",
       "1                      Jobi jorge padam ano. Potti mone   \n",
       "2     Cinema kanditum idakku idakku keri trailer kanund   \n",
       "3     ജിമിട്ടൊളികൾ ഇപ്പോളെ unlike അടിച്ചു തുടങ്ങി  അ...   \n",
       "4     Muriyandikal pannikuutatam pole thurimezhukuva...   \n",
       "...                                                 ...   \n",
       "4492  ```HIGH VOLTAGE INSIDE.. UNAUTHORIZED PERSONS ...   \n",
       "4493  ഇത് നയൻതാരയ്ക്ക് വെച്ച റോൾ ആയിരുന്നില്ലേ   Any...   \n",
       "4494                   open for online job for students   \n",
       "4495                      Like a tamil and Telugu movie   \n",
       "4496       Guys ente channel onnu subscribe cheyyaamo 🥰   \n",
       "\n",
       "                                    labels  \n",
       "0                            Not_offensive  \n",
       "1     Offensive_Targeted_Insult_Individual  \n",
       "2                            Not_offensive  \n",
       "3          Offensive_Targeted_Insult_Group  \n",
       "4          Offensive_Targeted_Insult_Group  \n",
       "...                                    ...  \n",
       "4492                         not-malayalam  \n",
       "4493                         Not_offensive  \n",
       "4494                         not-malayalam  \n",
       "4495                         not-malayalam  \n",
       "4496                         Not_offensive  \n",
       "\n",
       "[4497 rows x 2 columns]"
      ]
     },
     "execution_count": 5,
     "metadata": {},
     "output_type": "execute_result"
    }
   ],
   "source": [
    "data"
   ]
  },
  {
   "cell_type": "code",
   "execution_count": 6,
   "metadata": {},
   "outputs": [
    {
     "data": {
      "text/plain": [
       "array(['Not_offensive', 'Offensive_Targeted_Insult_Individual',\n",
       "       'Offensive_Targeted_Insult_Group', 'not-malayalam',\n",
       "       'Offensive_Untargetede', nan], dtype=object)"
      ]
     },
     "execution_count": 6,
     "metadata": {},
     "output_type": "execute_result"
    }
   ],
   "source": [
    "data['labels'].unique()"
   ]
  },
  {
   "cell_type": "code",
   "execution_count": 7,
   "metadata": {},
   "outputs": [
    {
     "data": {
      "text/plain": [
       "Not_offensive                           1904\n",
       "not-malayalam                           1572\n",
       "Offensive_Targeted_Insult_Individual     499\n",
       "Offensive_Untargetede                    305\n",
       "Offensive_Targeted_Insult_Group          216\n",
       "Name: labels, dtype: int64"
      ]
     },
     "execution_count": 7,
     "metadata": {},
     "output_type": "execute_result"
    }
   ],
   "source": [
    "data['labels'].value_counts()"
   ]
  },
  {
   "cell_type": "code",
   "execution_count": 8,
   "metadata": {},
   "outputs": [
    {
     "data": {
      "text/plain": [
       "comments    1\n",
       "labels      1\n",
       "dtype: int64"
      ]
     },
     "execution_count": 8,
     "metadata": {},
     "output_type": "execute_result"
    }
   ],
   "source": [
    "data.isnull().sum()\n"
   ]
  },
  {
   "cell_type": "code",
   "execution_count": 9,
   "metadata": {},
   "outputs": [
    {
     "data": {
      "text/plain": [
       "Index(['comments', 'labels'], dtype='object')"
      ]
     },
     "execution_count": 9,
     "metadata": {},
     "output_type": "execute_result"
    }
   ],
   "source": [
    "data.columns"
   ]
  },
  {
   "cell_type": "code",
   "execution_count": 10,
   "metadata": {},
   "outputs": [],
   "source": [
    "data['labels'] = data['labels'].replace({\"not-malayalam\":np.NaN})\n"
   ]
  },
  {
   "cell_type": "code",
   "execution_count": 11,
   "metadata": {},
   "outputs": [
    {
     "data": {
      "text/plain": [
       "comments       1\n",
       "labels      1573\n",
       "dtype: int64"
      ]
     },
     "execution_count": 11,
     "metadata": {},
     "output_type": "execute_result"
    }
   ],
   "source": [
    "data.isnull().sum()"
   ]
  },
  {
   "cell_type": "code",
   "execution_count": 12,
   "metadata": {},
   "outputs": [],
   "source": [
    "data.dropna(axis=0,how='any', inplace=True)"
   ]
  },
  {
   "cell_type": "code",
   "execution_count": 13,
   "metadata": {},
   "outputs": [
    {
     "data": {
      "text/html": [
       "<div>\n",
       "<style scoped>\n",
       "    .dataframe tbody tr th:only-of-type {\n",
       "        vertical-align: middle;\n",
       "    }\n",
       "\n",
       "    .dataframe tbody tr th {\n",
       "        vertical-align: top;\n",
       "    }\n",
       "\n",
       "    .dataframe thead th {\n",
       "        text-align: right;\n",
       "    }\n",
       "</style>\n",
       "<table border=\"1\" class=\"dataframe\">\n",
       "  <thead>\n",
       "    <tr style=\"text-align: right;\">\n",
       "      <th></th>\n",
       "      <th>comments</th>\n",
       "      <th>labels</th>\n",
       "    </tr>\n",
       "  </thead>\n",
       "  <tbody>\n",
       "    <tr>\n",
       "      <th>0</th>\n",
       "      <td>December 12 inn katta waitingullar like poad</td>\n",
       "      <td>Not_offensive</td>\n",
       "    </tr>\n",
       "    <tr>\n",
       "      <th>1</th>\n",
       "      <td>Jobi jorge padam ano. Potti mone</td>\n",
       "      <td>Offensive_Targeted_Insult_Individual</td>\n",
       "    </tr>\n",
       "    <tr>\n",
       "      <th>2</th>\n",
       "      <td>Cinema kanditum idakku idakku keri trailer kanund</td>\n",
       "      <td>Not_offensive</td>\n",
       "    </tr>\n",
       "    <tr>\n",
       "      <th>3</th>\n",
       "      <td>ജിമിട്ടൊളികൾ ഇപ്പോളെ unlike അടിച്ചു തുടങ്ങി  അ...</td>\n",
       "      <td>Offensive_Targeted_Insult_Group</td>\n",
       "    </tr>\n",
       "    <tr>\n",
       "      <th>4</th>\n",
       "      <td>Muriyandikal pannikuutatam pole thurimezhukuva...</td>\n",
       "      <td>Offensive_Targeted_Insult_Group</td>\n",
       "    </tr>\n",
       "    <tr>\n",
       "      <th>...</th>\n",
       "      <td>...</td>\n",
       "      <td>...</td>\n",
       "    </tr>\n",
       "    <tr>\n",
       "      <th>4488</th>\n",
       "      <td>Dislike adicha thaayolikale adikendavark like ...</td>\n",
       "      <td>Offensive_Untargetede</td>\n",
       "    </tr>\n",
       "    <tr>\n",
       "      <th>4489</th>\n",
       "      <td>പ്രിത്വി ഞെട്ടിക്കൽ പരിപാടി നിർത്തുന്നില്ല അല്...</td>\n",
       "      <td>Not_offensive</td>\n",
       "    </tr>\n",
       "    <tr>\n",
       "      <th>4491</th>\n",
       "      <td>Ikkha Mess aanu  #mamookkha  #dq</td>\n",
       "      <td>Not_offensive</td>\n",
       "    </tr>\n",
       "    <tr>\n",
       "      <th>4493</th>\n",
       "      <td>ഇത് നയൻതാരയ്ക്ക് വെച്ച റോൾ ആയിരുന്നില്ലേ   Any...</td>\n",
       "      <td>Not_offensive</td>\n",
       "    </tr>\n",
       "    <tr>\n",
       "      <th>4496</th>\n",
       "      <td>Guys ente channel onnu subscribe cheyyaamo 🥰</td>\n",
       "      <td>Not_offensive</td>\n",
       "    </tr>\n",
       "  </tbody>\n",
       "</table>\n",
       "<p>2924 rows × 2 columns</p>\n",
       "</div>"
      ],
      "text/plain": [
       "                                               comments  \\\n",
       "0          December 12 inn katta waitingullar like poad   \n",
       "1                      Jobi jorge padam ano. Potti mone   \n",
       "2     Cinema kanditum idakku idakku keri trailer kanund   \n",
       "3     ജിമിട്ടൊളികൾ ഇപ്പോളെ unlike അടിച്ചു തുടങ്ങി  അ...   \n",
       "4     Muriyandikal pannikuutatam pole thurimezhukuva...   \n",
       "...                                                 ...   \n",
       "4488  Dislike adicha thaayolikale adikendavark like ...   \n",
       "4489  പ്രിത്വി ഞെട്ടിക്കൽ പരിപാടി നിർത്തുന്നില്ല അല്...   \n",
       "4491                   Ikkha Mess aanu  #mamookkha  #dq   \n",
       "4493  ഇത് നയൻതാരയ്ക്ക് വെച്ച റോൾ ആയിരുന്നില്ലേ   Any...   \n",
       "4496       Guys ente channel onnu subscribe cheyyaamo 🥰   \n",
       "\n",
       "                                    labels  \n",
       "0                            Not_offensive  \n",
       "1     Offensive_Targeted_Insult_Individual  \n",
       "2                            Not_offensive  \n",
       "3          Offensive_Targeted_Insult_Group  \n",
       "4          Offensive_Targeted_Insult_Group  \n",
       "...                                    ...  \n",
       "4488                 Offensive_Untargetede  \n",
       "4489                         Not_offensive  \n",
       "4491                         Not_offensive  \n",
       "4493                         Not_offensive  \n",
       "4496                         Not_offensive  \n",
       "\n",
       "[2924 rows x 2 columns]"
      ]
     },
     "execution_count": 13,
     "metadata": {},
     "output_type": "execute_result"
    }
   ],
   "source": [
    "data"
   ]
  },
  {
   "cell_type": "code",
   "execution_count": 14,
   "metadata": {},
   "outputs": [],
   "source": [
    "data['labels'] = [0 if i ==\"Not_offensive\" else 1 for i in data['labels']]"
   ]
  },
  {
   "cell_type": "code",
   "execution_count": 15,
   "metadata": {},
   "outputs": [
    {
     "data": {
      "text/html": [
       "<div>\n",
       "<style scoped>\n",
       "    .dataframe tbody tr th:only-of-type {\n",
       "        vertical-align: middle;\n",
       "    }\n",
       "\n",
       "    .dataframe tbody tr th {\n",
       "        vertical-align: top;\n",
       "    }\n",
       "\n",
       "    .dataframe thead th {\n",
       "        text-align: right;\n",
       "    }\n",
       "</style>\n",
       "<table border=\"1\" class=\"dataframe\">\n",
       "  <thead>\n",
       "    <tr style=\"text-align: right;\">\n",
       "      <th></th>\n",
       "      <th>comments</th>\n",
       "      <th>labels</th>\n",
       "    </tr>\n",
       "  </thead>\n",
       "  <tbody>\n",
       "    <tr>\n",
       "      <th>0</th>\n",
       "      <td>December 12 inn katta waitingullar like poad</td>\n",
       "      <td>0</td>\n",
       "    </tr>\n",
       "    <tr>\n",
       "      <th>1</th>\n",
       "      <td>Jobi jorge padam ano. Potti mone</td>\n",
       "      <td>1</td>\n",
       "    </tr>\n",
       "    <tr>\n",
       "      <th>2</th>\n",
       "      <td>Cinema kanditum idakku idakku keri trailer kanund</td>\n",
       "      <td>0</td>\n",
       "    </tr>\n",
       "    <tr>\n",
       "      <th>3</th>\n",
       "      <td>ജിമിട്ടൊളികൾ ഇപ്പോളെ unlike അടിച്ചു തുടങ്ങി  അ...</td>\n",
       "      <td>1</td>\n",
       "    </tr>\n",
       "    <tr>\n",
       "      <th>4</th>\n",
       "      <td>Muriyandikal pannikuutatam pole thurimezhukuva...</td>\n",
       "      <td>1</td>\n",
       "    </tr>\n",
       "  </tbody>\n",
       "</table>\n",
       "</div>"
      ],
      "text/plain": [
       "                                            comments  labels\n",
       "0       December 12 inn katta waitingullar like poad       0\n",
       "1                   Jobi jorge padam ano. Potti mone       1\n",
       "2  Cinema kanditum idakku idakku keri trailer kanund       0\n",
       "3  ജിമിട്ടൊളികൾ ഇപ്പോളെ unlike അടിച്ചു തുടങ്ങി  അ...       1\n",
       "4  Muriyandikal pannikuutatam pole thurimezhukuva...       1"
      ]
     },
     "execution_count": 15,
     "metadata": {},
     "output_type": "execute_result"
    }
   ],
   "source": [
    "data.head()"
   ]
  },
  {
   "cell_type": "code",
   "execution_count": 16,
   "metadata": {},
   "outputs": [],
   "source": [
    "X=data['comments']\n",
    "y=data['labels']"
   ]
  },
  {
   "cell_type": "code",
   "execution_count": 17,
   "metadata": {},
   "outputs": [],
   "source": [
    "X_train, X_test, y_train, y_test = train_test_split(X, y, test_size=0.2, random_state=42)\n"
   ]
  },
  {
   "cell_type": "code",
   "execution_count": 18,
   "metadata": {},
   "outputs": [],
   "source": [
    "tokenizer = BertTokenizer.from_pretrained('bert-base-multilingual-cased')\n",
    "model = BertModel.from_pretrained('bert-base-multilingual-cased')"
   ]
  },
  {
   "cell_type": "code",
   "execution_count": 19,
   "metadata": {},
   "outputs": [],
   "source": [
    "# Tokenize the text data and extract mBERT embeddings\n",
    "X_train_embeddings = []\n",
    "X_test_embeddings = []"
   ]
  },
  {
   "cell_type": "code",
   "execution_count": 20,
   "metadata": {},
   "outputs": [],
   "source": [
    "for text in X_train:\n",
    "    tokens = tokenizer(text, padding=True, truncation=True, return_tensors='pt')\n",
    "    with torch.no_grad():\n",
    "        model_output = model(**tokens)\n",
    "    embeddings = model_output['last_hidden_state'].mean(dim=1).squeeze().numpy()\n",
    "    X_train_embeddings.append(embeddings)"
   ]
  },
  {
   "cell_type": "code",
   "execution_count": 21,
   "metadata": {},
   "outputs": [],
   "source": [
    "for text in X_test:\n",
    "    tokens = tokenizer(text, padding=True, truncation=True, return_tensors='pt')\n",
    "    with torch.no_grad():\n",
    "        model_output = model(**tokens)\n",
    "    embeddings = model_output['last_hidden_state'].mean(dim=1).squeeze().numpy()\n",
    "    X_test_embeddings.append(embeddings)"
   ]
  },
  {
   "cell_type": "code",
   "execution_count": 22,
   "metadata": {},
   "outputs": [],
   "source": [
    "# Convert the embeddings to numpy arrays\n",
    "X_train_embeddings = np.array(X_train_embeddings)\n",
    "X_test_embeddings = np.array(X_test_embeddings)"
   ]
  },
  {
   "cell_type": "code",
   "execution_count": 23,
   "metadata": {},
   "outputs": [
    {
     "name": "stdout",
     "output_type": "stream",
     "text": [
      "(2339, 768) (2339,)\n"
     ]
    }
   ],
   "source": [
    "print(X_train_embeddings.shape, y_train.shape)\n"
   ]
  },
  {
   "cell_type": "code",
   "execution_count": 24,
   "metadata": {},
   "outputs": [
    {
     "data": {
      "text/plain": [
       "DecisionTreeClassifier(random_state=42)"
      ]
     },
     "execution_count": 24,
     "metadata": {},
     "output_type": "execute_result"
    }
   ],
   "source": [
    "from sklearn.tree import DecisionTreeClassifier\n",
    "d_classifier = DecisionTreeClassifier(random_state=42)\n",
    "d_classifier.fit(X_train_embeddings, y_train)"
   ]
  },
  {
   "cell_type": "code",
   "execution_count": 25,
   "metadata": {},
   "outputs": [],
   "source": [
    "y_pred = d_classifier.predict(X_test_embeddings)\n"
   ]
  },
  {
   "cell_type": "code",
   "execution_count": 26,
   "metadata": {},
   "outputs": [],
   "source": [
    "# Evaluate the model\n",
    "accuracy = accuracy_score(y_test, y_pred)\n",
    "report = classification_report(y_test, y_pred)"
   ]
  },
  {
   "cell_type": "code",
   "execution_count": 27,
   "metadata": {},
   "outputs": [
    {
     "name": "stdout",
     "output_type": "stream",
     "text": [
      "Accuracy: 66.84%\n",
      "Classification Report:\n",
      "               precision    recall  f1-score   support\n",
      "\n",
      "           0       0.74      0.74      0.74       375\n",
      "           1       0.54      0.54      0.54       210\n",
      "\n",
      "    accuracy                           0.67       585\n",
      "   macro avg       0.64      0.64      0.64       585\n",
      "weighted avg       0.67      0.67      0.67       585\n",
      "\n"
     ]
    }
   ],
   "source": [
    "print(\"Accuracy: {:.2f}%\".format(accuracy * 100))\n",
    "print(\"Classification Report:\\n\", report)"
   ]
  },
  {
   "cell_type": "code",
   "execution_count": 28,
   "metadata": {},
   "outputs": [
    {
     "data": {
      "text/plain": [
       "['decision_tree_model.joblib']"
      ]
     },
     "execution_count": 28,
     "metadata": {},
     "output_type": "execute_result"
    }
   ],
   "source": [
    "joblib.dump(d_classifier, 'decision_tree_model.joblib')\n"
   ]
  },
  {
   "cell_type": "code",
   "execution_count": 29,
   "metadata": {},
   "outputs": [
    {
     "name": "stdout",
     "output_type": "stream",
     "text": [
      "Predicted Label: [1]\n"
     ]
    }
   ],
   "source": [
    "note = ['ജിമിട്ടൊളികൾ ഇപ്പോളെ unlike അടിച്ചു തുടങ്ങി  അസുരൻ loading..']\n",
    "tokens = tokenizer(note, padding=True, truncation=True, return_tensors='pt')\n",
    "with torch.no_grad():\n",
    "    model_output = model(**tokens)\n",
    "embeddings = model_output['last_hidden_state'].mean(dim=1).squeeze().numpy()\n",
    "\n",
    "\n",
    "input_embedding = embeddings.reshape(1, -1)  \n",
    "\n",
    "predicted_label = d_classifier.predict(input_embedding)\n",
    "\n",
    "print(\"Predicted Label:\", predicted_label)"
   ]
  },
  {
   "cell_type": "code",
   "execution_count": 30,
   "metadata": {},
   "outputs": [],
   "source": [
    "results_df = pd.DataFrame({'Actual_Labels': y_test.values, 'Predicted_Labels': y_pred})\n",
    "results_df['Actual_Labels'] = results_df['Actual_Labels'].replace({0: 'not offensive', 1: 'offensive'})\n",
    "results_df['Predicted_Labels'] = results_df['Predicted_Labels'].replace({0: 'not offensive', 1: 'offensive'})\n"
   ]
  },
  {
   "cell_type": "code",
   "execution_count": 31,
   "metadata": {},
   "outputs": [
    {
     "data": {
      "text/html": [
       "<div>\n",
       "<style scoped>\n",
       "    .dataframe tbody tr th:only-of-type {\n",
       "        vertical-align: middle;\n",
       "    }\n",
       "\n",
       "    .dataframe tbody tr th {\n",
       "        vertical-align: top;\n",
       "    }\n",
       "\n",
       "    .dataframe thead th {\n",
       "        text-align: right;\n",
       "    }\n",
       "</style>\n",
       "<table border=\"1\" class=\"dataframe\">\n",
       "  <thead>\n",
       "    <tr style=\"text-align: right;\">\n",
       "      <th></th>\n",
       "      <th>Actual_Labels</th>\n",
       "      <th>Predicted_Labels</th>\n",
       "    </tr>\n",
       "  </thead>\n",
       "  <tbody>\n",
       "    <tr>\n",
       "      <th>0</th>\n",
       "      <td>offensive</td>\n",
       "      <td>not offensive</td>\n",
       "    </tr>\n",
       "    <tr>\n",
       "      <th>1</th>\n",
       "      <td>not offensive</td>\n",
       "      <td>not offensive</td>\n",
       "    </tr>\n",
       "    <tr>\n",
       "      <th>2</th>\n",
       "      <td>offensive</td>\n",
       "      <td>offensive</td>\n",
       "    </tr>\n",
       "    <tr>\n",
       "      <th>3</th>\n",
       "      <td>offensive</td>\n",
       "      <td>not offensive</td>\n",
       "    </tr>\n",
       "    <tr>\n",
       "      <th>4</th>\n",
       "      <td>offensive</td>\n",
       "      <td>offensive</td>\n",
       "    </tr>\n",
       "    <tr>\n",
       "      <th>5</th>\n",
       "      <td>not offensive</td>\n",
       "      <td>not offensive</td>\n",
       "    </tr>\n",
       "    <tr>\n",
       "      <th>6</th>\n",
       "      <td>offensive</td>\n",
       "      <td>not offensive</td>\n",
       "    </tr>\n",
       "    <tr>\n",
       "      <th>7</th>\n",
       "      <td>not offensive</td>\n",
       "      <td>not offensive</td>\n",
       "    </tr>\n",
       "    <tr>\n",
       "      <th>8</th>\n",
       "      <td>not offensive</td>\n",
       "      <td>offensive</td>\n",
       "    </tr>\n",
       "    <tr>\n",
       "      <th>9</th>\n",
       "      <td>not offensive</td>\n",
       "      <td>offensive</td>\n",
       "    </tr>\n",
       "  </tbody>\n",
       "</table>\n",
       "</div>"
      ],
      "text/plain": [
       "   Actual_Labels Predicted_Labels\n",
       "0      offensive    not offensive\n",
       "1  not offensive    not offensive\n",
       "2      offensive        offensive\n",
       "3      offensive    not offensive\n",
       "4      offensive        offensive\n",
       "5  not offensive    not offensive\n",
       "6      offensive    not offensive\n",
       "7  not offensive    not offensive\n",
       "8  not offensive        offensive\n",
       "9  not offensive        offensive"
      ]
     },
     "execution_count": 31,
     "metadata": {},
     "output_type": "execute_result"
    }
   ],
   "source": [
    "results_df.head(10)\n"
   ]
  },
  {
   "cell_type": "markdown",
   "metadata": {},
   "source": [
    "#classifying according to the level of offensiveness"
   ]
  },
  {
   "cell_type": "code",
   "execution_count": 32,
   "metadata": {},
   "outputs": [],
   "source": [
    "df = pd.read_csv(r\"Dataset.csv\")\n"
   ]
  },
  {
   "cell_type": "code",
   "execution_count": 33,
   "metadata": {},
   "outputs": [
    {
     "data": {
      "text/html": [
       "<div>\n",
       "<style scoped>\n",
       "    .dataframe tbody tr th:only-of-type {\n",
       "        vertical-align: middle;\n",
       "    }\n",
       "\n",
       "    .dataframe tbody tr th {\n",
       "        vertical-align: top;\n",
       "    }\n",
       "\n",
       "    .dataframe thead th {\n",
       "        text-align: right;\n",
       "    }\n",
       "</style>\n",
       "<table border=\"1\" class=\"dataframe\">\n",
       "  <thead>\n",
       "    <tr style=\"text-align: right;\">\n",
       "      <th></th>\n",
       "      <th>comments</th>\n",
       "      <th>labels</th>\n",
       "    </tr>\n",
       "  </thead>\n",
       "  <tbody>\n",
       "    <tr>\n",
       "      <th>0</th>\n",
       "      <td>December 12 inn katta waitingullar like poad</td>\n",
       "      <td>Not_offensive</td>\n",
       "    </tr>\n",
       "    <tr>\n",
       "      <th>1</th>\n",
       "      <td>Jobi jorge padam ano. Potti mone</td>\n",
       "      <td>Offensive_Targeted_Insult_Individual</td>\n",
       "    </tr>\n",
       "    <tr>\n",
       "      <th>2</th>\n",
       "      <td>Cinema kanditum idakku idakku keri trailer kanund</td>\n",
       "      <td>Not_offensive</td>\n",
       "    </tr>\n",
       "    <tr>\n",
       "      <th>3</th>\n",
       "      <td>ജിമിട്ടൊളികൾ ഇപ്പോളെ unlike അടിച്ചു തുടങ്ങി  അ...</td>\n",
       "      <td>Offensive_Targeted_Insult_Group</td>\n",
       "    </tr>\n",
       "    <tr>\n",
       "      <th>4</th>\n",
       "      <td>Muriyandikal pannikuutatam pole thurimezhukuva...</td>\n",
       "      <td>Offensive_Targeted_Insult_Group</td>\n",
       "    </tr>\n",
       "    <tr>\n",
       "      <th>...</th>\n",
       "      <td>...</td>\n",
       "      <td>...</td>\n",
       "    </tr>\n",
       "    <tr>\n",
       "      <th>4492</th>\n",
       "      <td>```HIGH VOLTAGE INSIDE.. UNAUTHORIZED PERSONS ...</td>\n",
       "      <td>not-malayalam</td>\n",
       "    </tr>\n",
       "    <tr>\n",
       "      <th>4493</th>\n",
       "      <td>ഇത് നയൻതാരയ്ക്ക് വെച്ച റോൾ ആയിരുന്നില്ലേ   Any...</td>\n",
       "      <td>Not_offensive</td>\n",
       "    </tr>\n",
       "    <tr>\n",
       "      <th>4494</th>\n",
       "      <td>open for online job for students</td>\n",
       "      <td>not-malayalam</td>\n",
       "    </tr>\n",
       "    <tr>\n",
       "      <th>4495</th>\n",
       "      <td>Like a tamil and Telugu movie</td>\n",
       "      <td>not-malayalam</td>\n",
       "    </tr>\n",
       "    <tr>\n",
       "      <th>4496</th>\n",
       "      <td>Guys ente channel onnu subscribe cheyyaamo 🥰</td>\n",
       "      <td>Not_offensive</td>\n",
       "    </tr>\n",
       "  </tbody>\n",
       "</table>\n",
       "<p>4497 rows × 2 columns</p>\n",
       "</div>"
      ],
      "text/plain": [
       "                                               comments  \\\n",
       "0          December 12 inn katta waitingullar like poad   \n",
       "1                      Jobi jorge padam ano. Potti mone   \n",
       "2     Cinema kanditum idakku idakku keri trailer kanund   \n",
       "3     ജിമിട്ടൊളികൾ ഇപ്പോളെ unlike അടിച്ചു തുടങ്ങി  അ...   \n",
       "4     Muriyandikal pannikuutatam pole thurimezhukuva...   \n",
       "...                                                 ...   \n",
       "4492  ```HIGH VOLTAGE INSIDE.. UNAUTHORIZED PERSONS ...   \n",
       "4493  ഇത് നയൻതാരയ്ക്ക് വെച്ച റോൾ ആയിരുന്നില്ലേ   Any...   \n",
       "4494                   open for online job for students   \n",
       "4495                      Like a tamil and Telugu movie   \n",
       "4496       Guys ente channel onnu subscribe cheyyaamo 🥰   \n",
       "\n",
       "                                    labels  \n",
       "0                            Not_offensive  \n",
       "1     Offensive_Targeted_Insult_Individual  \n",
       "2                            Not_offensive  \n",
       "3          Offensive_Targeted_Insult_Group  \n",
       "4          Offensive_Targeted_Insult_Group  \n",
       "...                                    ...  \n",
       "4492                         not-malayalam  \n",
       "4493                         Not_offensive  \n",
       "4494                         not-malayalam  \n",
       "4495                         not-malayalam  \n",
       "4496                         Not_offensive  \n",
       "\n",
       "[4497 rows x 2 columns]"
      ]
     },
     "execution_count": 33,
     "metadata": {},
     "output_type": "execute_result"
    }
   ],
   "source": [
    "df"
   ]
  },
  {
   "cell_type": "code",
   "execution_count": 34,
   "metadata": {},
   "outputs": [
    {
     "name": "stdout",
     "output_type": "stream",
     "text": [
      "['Not_offensive' 'Offensive_Targeted_Insult_Individual'\n",
      " 'Offensive_Targeted_Insult_Group' 'not-malayalam' 'Offensive_Untargetede'\n",
      " nan]\n"
     ]
    }
   ],
   "source": [
    "print(df['labels'].unique())\n"
   ]
  },
  {
   "cell_type": "code",
   "execution_count": 35,
   "metadata": {},
   "outputs": [],
   "source": [
    "df.dropna(axis=0,how='any', inplace=True)"
   ]
  },
  {
   "cell_type": "code",
   "execution_count": 36,
   "metadata": {},
   "outputs": [
    {
     "data": {
      "text/html": [
       "<div>\n",
       "<style scoped>\n",
       "    .dataframe tbody tr th:only-of-type {\n",
       "        vertical-align: middle;\n",
       "    }\n",
       "\n",
       "    .dataframe tbody tr th {\n",
       "        vertical-align: top;\n",
       "    }\n",
       "\n",
       "    .dataframe thead th {\n",
       "        text-align: right;\n",
       "    }\n",
       "</style>\n",
       "<table border=\"1\" class=\"dataframe\">\n",
       "  <thead>\n",
       "    <tr style=\"text-align: right;\">\n",
       "      <th></th>\n",
       "      <th>comments</th>\n",
       "      <th>labels</th>\n",
       "    </tr>\n",
       "  </thead>\n",
       "  <tbody>\n",
       "    <tr>\n",
       "      <th>0</th>\n",
       "      <td>December 12 inn katta waitingullar like poad</td>\n",
       "      <td>Not_offensive</td>\n",
       "    </tr>\n",
       "    <tr>\n",
       "      <th>1</th>\n",
       "      <td>Jobi jorge padam ano. Potti mone</td>\n",
       "      <td>Offensive_Targeted_Insult_Individual</td>\n",
       "    </tr>\n",
       "    <tr>\n",
       "      <th>2</th>\n",
       "      <td>Cinema kanditum idakku idakku keri trailer kanund</td>\n",
       "      <td>Not_offensive</td>\n",
       "    </tr>\n",
       "    <tr>\n",
       "      <th>3</th>\n",
       "      <td>ജിമിട്ടൊളികൾ ഇപ്പോളെ unlike അടിച്ചു തുടങ്ങി  അ...</td>\n",
       "      <td>Offensive_Targeted_Insult_Group</td>\n",
       "    </tr>\n",
       "    <tr>\n",
       "      <th>4</th>\n",
       "      <td>Muriyandikal pannikuutatam pole thurimezhukuva...</td>\n",
       "      <td>Offensive_Targeted_Insult_Group</td>\n",
       "    </tr>\n",
       "    <tr>\n",
       "      <th>...</th>\n",
       "      <td>...</td>\n",
       "      <td>...</td>\n",
       "    </tr>\n",
       "    <tr>\n",
       "      <th>4492</th>\n",
       "      <td>```HIGH VOLTAGE INSIDE.. UNAUTHORIZED PERSONS ...</td>\n",
       "      <td>not-malayalam</td>\n",
       "    </tr>\n",
       "    <tr>\n",
       "      <th>4493</th>\n",
       "      <td>ഇത് നയൻതാരയ്ക്ക് വെച്ച റോൾ ആയിരുന്നില്ലേ   Any...</td>\n",
       "      <td>Not_offensive</td>\n",
       "    </tr>\n",
       "    <tr>\n",
       "      <th>4494</th>\n",
       "      <td>open for online job for students</td>\n",
       "      <td>not-malayalam</td>\n",
       "    </tr>\n",
       "    <tr>\n",
       "      <th>4495</th>\n",
       "      <td>Like a tamil and Telugu movie</td>\n",
       "      <td>not-malayalam</td>\n",
       "    </tr>\n",
       "    <tr>\n",
       "      <th>4496</th>\n",
       "      <td>Guys ente channel onnu subscribe cheyyaamo 🥰</td>\n",
       "      <td>Not_offensive</td>\n",
       "    </tr>\n",
       "  </tbody>\n",
       "</table>\n",
       "<p>4496 rows × 2 columns</p>\n",
       "</div>"
      ],
      "text/plain": [
       "                                               comments  \\\n",
       "0          December 12 inn katta waitingullar like poad   \n",
       "1                      Jobi jorge padam ano. Potti mone   \n",
       "2     Cinema kanditum idakku idakku keri trailer kanund   \n",
       "3     ജിമിട്ടൊളികൾ ഇപ്പോളെ unlike അടിച്ചു തുടങ്ങി  അ...   \n",
       "4     Muriyandikal pannikuutatam pole thurimezhukuva...   \n",
       "...                                                 ...   \n",
       "4492  ```HIGH VOLTAGE INSIDE.. UNAUTHORIZED PERSONS ...   \n",
       "4493  ഇത് നയൻതാരയ്ക്ക് വെച്ച റോൾ ആയിരുന്നില്ലേ   Any...   \n",
       "4494                   open for online job for students   \n",
       "4495                      Like a tamil and Telugu movie   \n",
       "4496       Guys ente channel onnu subscribe cheyyaamo 🥰   \n",
       "\n",
       "                                    labels  \n",
       "0                            Not_offensive  \n",
       "1     Offensive_Targeted_Insult_Individual  \n",
       "2                            Not_offensive  \n",
       "3          Offensive_Targeted_Insult_Group  \n",
       "4          Offensive_Targeted_Insult_Group  \n",
       "...                                    ...  \n",
       "4492                         not-malayalam  \n",
       "4493                         Not_offensive  \n",
       "4494                         not-malayalam  \n",
       "4495                         not-malayalam  \n",
       "4496                         Not_offensive  \n",
       "\n",
       "[4496 rows x 2 columns]"
      ]
     },
     "execution_count": 36,
     "metadata": {},
     "output_type": "execute_result"
    }
   ],
   "source": [
    "df"
   ]
  },
  {
   "cell_type": "code",
   "execution_count": 37,
   "metadata": {},
   "outputs": [],
   "source": [
    "df['labels']=df['labels'].replace({\"not-malayalam\":np.NaN})"
   ]
  },
  {
   "cell_type": "code",
   "execution_count": 38,
   "metadata": {},
   "outputs": [],
   "source": [
    "df.dropna(axis=0,how='any', inplace=True)"
   ]
  },
  {
   "cell_type": "code",
   "execution_count": 39,
   "metadata": {},
   "outputs": [
    {
     "data": {
      "text/html": [
       "<div>\n",
       "<style scoped>\n",
       "    .dataframe tbody tr th:only-of-type {\n",
       "        vertical-align: middle;\n",
       "    }\n",
       "\n",
       "    .dataframe tbody tr th {\n",
       "        vertical-align: top;\n",
       "    }\n",
       "\n",
       "    .dataframe thead th {\n",
       "        text-align: right;\n",
       "    }\n",
       "</style>\n",
       "<table border=\"1\" class=\"dataframe\">\n",
       "  <thead>\n",
       "    <tr style=\"text-align: right;\">\n",
       "      <th></th>\n",
       "      <th>comments</th>\n",
       "      <th>labels</th>\n",
       "    </tr>\n",
       "  </thead>\n",
       "  <tbody>\n",
       "    <tr>\n",
       "      <th>0</th>\n",
       "      <td>December 12 inn katta waitingullar like poad</td>\n",
       "      <td>Not_offensive</td>\n",
       "    </tr>\n",
       "    <tr>\n",
       "      <th>1</th>\n",
       "      <td>Jobi jorge padam ano. Potti mone</td>\n",
       "      <td>Offensive_Targeted_Insult_Individual</td>\n",
       "    </tr>\n",
       "    <tr>\n",
       "      <th>2</th>\n",
       "      <td>Cinema kanditum idakku idakku keri trailer kanund</td>\n",
       "      <td>Not_offensive</td>\n",
       "    </tr>\n",
       "    <tr>\n",
       "      <th>3</th>\n",
       "      <td>ജിമിട്ടൊളികൾ ഇപ്പോളെ unlike അടിച്ചു തുടങ്ങി  അ...</td>\n",
       "      <td>Offensive_Targeted_Insult_Group</td>\n",
       "    </tr>\n",
       "    <tr>\n",
       "      <th>4</th>\n",
       "      <td>Muriyandikal pannikuutatam pole thurimezhukuva...</td>\n",
       "      <td>Offensive_Targeted_Insult_Group</td>\n",
       "    </tr>\n",
       "    <tr>\n",
       "      <th>...</th>\n",
       "      <td>...</td>\n",
       "      <td>...</td>\n",
       "    </tr>\n",
       "    <tr>\n",
       "      <th>4488</th>\n",
       "      <td>Dislike adicha thaayolikale adikendavark like ...</td>\n",
       "      <td>Offensive_Untargetede</td>\n",
       "    </tr>\n",
       "    <tr>\n",
       "      <th>4489</th>\n",
       "      <td>പ്രിത്വി ഞെട്ടിക്കൽ പരിപാടി നിർത്തുന്നില്ല അല്...</td>\n",
       "      <td>Not_offensive</td>\n",
       "    </tr>\n",
       "    <tr>\n",
       "      <th>4491</th>\n",
       "      <td>Ikkha Mess aanu  #mamookkha  #dq</td>\n",
       "      <td>Not_offensive</td>\n",
       "    </tr>\n",
       "    <tr>\n",
       "      <th>4493</th>\n",
       "      <td>ഇത് നയൻതാരയ്ക്ക് വെച്ച റോൾ ആയിരുന്നില്ലേ   Any...</td>\n",
       "      <td>Not_offensive</td>\n",
       "    </tr>\n",
       "    <tr>\n",
       "      <th>4496</th>\n",
       "      <td>Guys ente channel onnu subscribe cheyyaamo 🥰</td>\n",
       "      <td>Not_offensive</td>\n",
       "    </tr>\n",
       "  </tbody>\n",
       "</table>\n",
       "<p>2924 rows × 2 columns</p>\n",
       "</div>"
      ],
      "text/plain": [
       "                                               comments  \\\n",
       "0          December 12 inn katta waitingullar like poad   \n",
       "1                      Jobi jorge padam ano. Potti mone   \n",
       "2     Cinema kanditum idakku idakku keri trailer kanund   \n",
       "3     ജിമിട്ടൊളികൾ ഇപ്പോളെ unlike അടിച്ചു തുടങ്ങി  അ...   \n",
       "4     Muriyandikal pannikuutatam pole thurimezhukuva...   \n",
       "...                                                 ...   \n",
       "4488  Dislike adicha thaayolikale adikendavark like ...   \n",
       "4489  പ്രിത്വി ഞെട്ടിക്കൽ പരിപാടി നിർത്തുന്നില്ല അല്...   \n",
       "4491                   Ikkha Mess aanu  #mamookkha  #dq   \n",
       "4493  ഇത് നയൻതാരയ്ക്ക് വെച്ച റോൾ ആയിരുന്നില്ലേ   Any...   \n",
       "4496       Guys ente channel onnu subscribe cheyyaamo 🥰   \n",
       "\n",
       "                                    labels  \n",
       "0                            Not_offensive  \n",
       "1     Offensive_Targeted_Insult_Individual  \n",
       "2                            Not_offensive  \n",
       "3          Offensive_Targeted_Insult_Group  \n",
       "4          Offensive_Targeted_Insult_Group  \n",
       "...                                    ...  \n",
       "4488                 Offensive_Untargetede  \n",
       "4489                         Not_offensive  \n",
       "4491                         Not_offensive  \n",
       "4493                         Not_offensive  \n",
       "4496                         Not_offensive  \n",
       "\n",
       "[2924 rows x 2 columns]"
      ]
     },
     "execution_count": 39,
     "metadata": {},
     "output_type": "execute_result"
    }
   ],
   "source": [
    "df"
   ]
  },
  {
   "cell_type": "code",
   "execution_count": 40,
   "metadata": {},
   "outputs": [],
   "source": [
    "df['labels']=df['labels'].replace({\"Not_offensive\":np.NaN})"
   ]
  },
  {
   "cell_type": "code",
   "execution_count": 41,
   "metadata": {},
   "outputs": [],
   "source": [
    "df.dropna(axis=0,how='any', inplace=True)"
   ]
  },
  {
   "cell_type": "code",
   "execution_count": 42,
   "metadata": {},
   "outputs": [
    {
     "data": {
      "text/html": [
       "<div>\n",
       "<style scoped>\n",
       "    .dataframe tbody tr th:only-of-type {\n",
       "        vertical-align: middle;\n",
       "    }\n",
       "\n",
       "    .dataframe tbody tr th {\n",
       "        vertical-align: top;\n",
       "    }\n",
       "\n",
       "    .dataframe thead th {\n",
       "        text-align: right;\n",
       "    }\n",
       "</style>\n",
       "<table border=\"1\" class=\"dataframe\">\n",
       "  <thead>\n",
       "    <tr style=\"text-align: right;\">\n",
       "      <th></th>\n",
       "      <th>comments</th>\n",
       "      <th>labels</th>\n",
       "    </tr>\n",
       "  </thead>\n",
       "  <tbody>\n",
       "    <tr>\n",
       "      <th>1</th>\n",
       "      <td>Jobi jorge padam ano. Potti mone</td>\n",
       "      <td>Offensive_Targeted_Insult_Individual</td>\n",
       "    </tr>\n",
       "    <tr>\n",
       "      <th>3</th>\n",
       "      <td>ജിമിട്ടൊളികൾ ഇപ്പോളെ unlike അടിച്ചു തുടങ്ങി  അ...</td>\n",
       "      <td>Offensive_Targeted_Insult_Group</td>\n",
       "    </tr>\n",
       "    <tr>\n",
       "      <th>4</th>\n",
       "      <td>Muriyandikal pannikuutatam pole thurimezhukuva...</td>\n",
       "      <td>Offensive_Targeted_Insult_Group</td>\n",
       "    </tr>\n",
       "    <tr>\n",
       "      <th>5</th>\n",
       "      <td>Nth bhashayado ith vech ketti malabr bhasha sa...</td>\n",
       "      <td>Offensive_Targeted_Insult_Individual</td>\n",
       "    </tr>\n",
       "    <tr>\n",
       "      <th>9</th>\n",
       "      <td>ആരും  കണ്ടേക്കരുതേ</td>\n",
       "      <td>Offensive_Targeted_Insult_Group</td>\n",
       "    </tr>\n",
       "    <tr>\n",
       "      <th>...</th>\n",
       "      <td>...</td>\n",
       "      <td>...</td>\n",
       "    </tr>\n",
       "    <tr>\n",
       "      <th>4451</th>\n",
       "      <td>Oompitharam alle mr. Producer.</td>\n",
       "      <td>Offensive_Targeted_Insult_Individual</td>\n",
       "    </tr>\n",
       "    <tr>\n",
       "      <th>4475</th>\n",
       "      <td>Mammuni thendikal ethra dislikes adichalum Raj...</td>\n",
       "      <td>Offensive_Targeted_Insult_Group</td>\n",
       "    </tr>\n",
       "    <tr>\n",
       "      <th>4476</th>\n",
       "      <td>Ennalum manassilakathadh eadh oolakal aane eee...</td>\n",
       "      <td>Offensive_Untargetede</td>\n",
       "    </tr>\n",
       "    <tr>\n",
       "      <th>4484</th>\n",
       "      <td>ഇവനൊന്നും ഇങ്ങനെയുള്ള പഠത്തിന് പറ്റൂല ഓഞ്ഞ ഒരു...</td>\n",
       "      <td>Offensive_Targeted_Insult_Individual</td>\n",
       "    </tr>\n",
       "    <tr>\n",
       "      <th>4488</th>\n",
       "      <td>Dislike adicha thaayolikale adikendavark like ...</td>\n",
       "      <td>Offensive_Untargetede</td>\n",
       "    </tr>\n",
       "  </tbody>\n",
       "</table>\n",
       "<p>1020 rows × 2 columns</p>\n",
       "</div>"
      ],
      "text/plain": [
       "                                               comments  \\\n",
       "1                      Jobi jorge padam ano. Potti mone   \n",
       "3     ജിമിട്ടൊളികൾ ഇപ്പോളെ unlike അടിച്ചു തുടങ്ങി  അ...   \n",
       "4     Muriyandikal pannikuutatam pole thurimezhukuva...   \n",
       "5     Nth bhashayado ith vech ketti malabr bhasha sa...   \n",
       "9                                    ആരും  കണ്ടേക്കരുതേ   \n",
       "...                                                 ...   \n",
       "4451                     Oompitharam alle mr. Producer.   \n",
       "4475  Mammuni thendikal ethra dislikes adichalum Raj...   \n",
       "4476  Ennalum manassilakathadh eadh oolakal aane eee...   \n",
       "4484  ഇവനൊന്നും ഇങ്ങനെയുള്ള പഠത്തിന് പറ്റൂല ഓഞ്ഞ ഒരു...   \n",
       "4488  Dislike adicha thaayolikale adikendavark like ...   \n",
       "\n",
       "                                    labels  \n",
       "1     Offensive_Targeted_Insult_Individual  \n",
       "3          Offensive_Targeted_Insult_Group  \n",
       "4          Offensive_Targeted_Insult_Group  \n",
       "5     Offensive_Targeted_Insult_Individual  \n",
       "9          Offensive_Targeted_Insult_Group  \n",
       "...                                    ...  \n",
       "4451  Offensive_Targeted_Insult_Individual  \n",
       "4475       Offensive_Targeted_Insult_Group  \n",
       "4476                 Offensive_Untargetede  \n",
       "4484  Offensive_Targeted_Insult_Individual  \n",
       "4488                 Offensive_Untargetede  \n",
       "\n",
       "[1020 rows x 2 columns]"
      ]
     },
     "execution_count": 42,
     "metadata": {},
     "output_type": "execute_result"
    }
   ],
   "source": [
    "df"
   ]
  },
  {
   "cell_type": "code",
   "execution_count": 43,
   "metadata": {},
   "outputs": [],
   "source": [
    "df['labels'] = df['labels'].str.strip()\n"
   ]
  },
  {
   "cell_type": "code",
   "execution_count": 44,
   "metadata": {},
   "outputs": [],
   "source": [
    "from sklearn.preprocessing import LabelEncoder\n",
    "lb=LabelEncoder()\n",
    "df[\"labels\"]=lb.fit_transform(df[\"labels\"])\n"
   ]
  },
  {
   "cell_type": "code",
   "execution_count": 45,
   "metadata": {},
   "outputs": [
    {
     "data": {
      "text/plain": [
       "1    499\n",
       "2    305\n",
       "0    216\n",
       "Name: labels, dtype: int64"
      ]
     },
     "execution_count": 45,
     "metadata": {},
     "output_type": "execute_result"
    }
   ],
   "source": [
    "df['labels'].value_counts()"
   ]
  },
  {
   "cell_type": "code",
   "execution_count": 46,
   "metadata": {},
   "outputs": [
    {
     "data": {
      "text/html": [
       "<div>\n",
       "<style scoped>\n",
       "    .dataframe tbody tr th:only-of-type {\n",
       "        vertical-align: middle;\n",
       "    }\n",
       "\n",
       "    .dataframe tbody tr th {\n",
       "        vertical-align: top;\n",
       "    }\n",
       "\n",
       "    .dataframe thead th {\n",
       "        text-align: right;\n",
       "    }\n",
       "</style>\n",
       "<table border=\"1\" class=\"dataframe\">\n",
       "  <thead>\n",
       "    <tr style=\"text-align: right;\">\n",
       "      <th></th>\n",
       "      <th>comments</th>\n",
       "      <th>labels</th>\n",
       "    </tr>\n",
       "  </thead>\n",
       "  <tbody>\n",
       "    <tr>\n",
       "      <th>1</th>\n",
       "      <td>Jobi jorge padam ano. Potti mone</td>\n",
       "      <td>1</td>\n",
       "    </tr>\n",
       "    <tr>\n",
       "      <th>3</th>\n",
       "      <td>ജിമിട്ടൊളികൾ ഇപ്പോളെ unlike അടിച്ചു തുടങ്ങി  അ...</td>\n",
       "      <td>0</td>\n",
       "    </tr>\n",
       "    <tr>\n",
       "      <th>4</th>\n",
       "      <td>Muriyandikal pannikuutatam pole thurimezhukuva...</td>\n",
       "      <td>0</td>\n",
       "    </tr>\n",
       "    <tr>\n",
       "      <th>5</th>\n",
       "      <td>Nth bhashayado ith vech ketti malabr bhasha sa...</td>\n",
       "      <td>1</td>\n",
       "    </tr>\n",
       "    <tr>\n",
       "      <th>9</th>\n",
       "      <td>ആരും  കണ്ടേക്കരുതേ</td>\n",
       "      <td>0</td>\n",
       "    </tr>\n",
       "    <tr>\n",
       "      <th>...</th>\n",
       "      <td>...</td>\n",
       "      <td>...</td>\n",
       "    </tr>\n",
       "    <tr>\n",
       "      <th>4451</th>\n",
       "      <td>Oompitharam alle mr. Producer.</td>\n",
       "      <td>1</td>\n",
       "    </tr>\n",
       "    <tr>\n",
       "      <th>4475</th>\n",
       "      <td>Mammuni thendikal ethra dislikes adichalum Raj...</td>\n",
       "      <td>0</td>\n",
       "    </tr>\n",
       "    <tr>\n",
       "      <th>4476</th>\n",
       "      <td>Ennalum manassilakathadh eadh oolakal aane eee...</td>\n",
       "      <td>2</td>\n",
       "    </tr>\n",
       "    <tr>\n",
       "      <th>4484</th>\n",
       "      <td>ഇവനൊന്നും ഇങ്ങനെയുള്ള പഠത്തിന് പറ്റൂല ഓഞ്ഞ ഒരു...</td>\n",
       "      <td>1</td>\n",
       "    </tr>\n",
       "    <tr>\n",
       "      <th>4488</th>\n",
       "      <td>Dislike adicha thaayolikale adikendavark like ...</td>\n",
       "      <td>2</td>\n",
       "    </tr>\n",
       "  </tbody>\n",
       "</table>\n",
       "<p>1020 rows × 2 columns</p>\n",
       "</div>"
      ],
      "text/plain": [
       "                                               comments  labels\n",
       "1                      Jobi jorge padam ano. Potti mone       1\n",
       "3     ജിമിട്ടൊളികൾ ഇപ്പോളെ unlike അടിച്ചു തുടങ്ങി  അ...       0\n",
       "4     Muriyandikal pannikuutatam pole thurimezhukuva...       0\n",
       "5     Nth bhashayado ith vech ketti malabr bhasha sa...       1\n",
       "9                                    ആരും  കണ്ടേക്കരുതേ       0\n",
       "...                                                 ...     ...\n",
       "4451                     Oompitharam alle mr. Producer.       1\n",
       "4475  Mammuni thendikal ethra dislikes adichalum Raj...       0\n",
       "4476  Ennalum manassilakathadh eadh oolakal aane eee...       2\n",
       "4484  ഇവനൊന്നും ഇങ്ങനെയുള്ള പഠത്തിന് പറ്റൂല ഓഞ്ഞ ഒരു...       1\n",
       "4488  Dislike adicha thaayolikale adikendavark like ...       2\n",
       "\n",
       "[1020 rows x 2 columns]"
      ]
     },
     "execution_count": 46,
     "metadata": {},
     "output_type": "execute_result"
    }
   ],
   "source": [
    "df"
   ]
  },
  {
   "cell_type": "code",
   "execution_count": 47,
   "metadata": {},
   "outputs": [
    {
     "data": {
      "text/html": [
       "<div>\n",
       "<style scoped>\n",
       "    .dataframe tbody tr th:only-of-type {\n",
       "        vertical-align: middle;\n",
       "    }\n",
       "\n",
       "    .dataframe tbody tr th {\n",
       "        vertical-align: top;\n",
       "    }\n",
       "\n",
       "    .dataframe thead th {\n",
       "        text-align: right;\n",
       "    }\n",
       "</style>\n",
       "<table border=\"1\" class=\"dataframe\">\n",
       "  <thead>\n",
       "    <tr style=\"text-align: right;\">\n",
       "      <th></th>\n",
       "      <th>comments</th>\n",
       "      <th>labels</th>\n",
       "    </tr>\n",
       "  </thead>\n",
       "  <tbody>\n",
       "    <tr>\n",
       "      <th>1</th>\n",
       "      <td>Jobi jorge padam ano. Potti mone</td>\n",
       "      <td>1</td>\n",
       "    </tr>\n",
       "    <tr>\n",
       "      <th>3</th>\n",
       "      <td>ജിമിട്ടൊളികൾ ഇപ്പോളെ unlike അടിച്ചു തുടങ്ങി  അ...</td>\n",
       "      <td>0</td>\n",
       "    </tr>\n",
       "    <tr>\n",
       "      <th>4</th>\n",
       "      <td>Muriyandikal pannikuutatam pole thurimezhukuva...</td>\n",
       "      <td>0</td>\n",
       "    </tr>\n",
       "    <tr>\n",
       "      <th>5</th>\n",
       "      <td>Nth bhashayado ith vech ketti malabr bhasha sa...</td>\n",
       "      <td>1</td>\n",
       "    </tr>\n",
       "    <tr>\n",
       "      <th>9</th>\n",
       "      <td>ആരും  കണ്ടേക്കരുതേ</td>\n",
       "      <td>0</td>\n",
       "    </tr>\n",
       "    <tr>\n",
       "      <th>13</th>\n",
       "      <td>Iyyalkke rest cheyyanulla time aayilla.. kanda...</td>\n",
       "      <td>1</td>\n",
       "    </tr>\n",
       "    <tr>\n",
       "      <th>23</th>\n",
       "      <td>eda rithwik nine njan theriparjilaloo ennitt n...</td>\n",
       "      <td>2</td>\n",
       "    </tr>\n",
       "    <tr>\n",
       "      <th>31</th>\n",
       "      <td>Trailer Releasinu munne 6k dislike itta ella p...</td>\n",
       "      <td>2</td>\n",
       "    </tr>\n",
       "    <tr>\n",
       "      <th>48</th>\n",
       "      <td>Itinum dislike adikkan aalundallo...nallatine ...</td>\n",
       "      <td>2</td>\n",
       "    </tr>\n",
       "    <tr>\n",
       "      <th>51</th>\n",
       "      <td>Nalla assal moonjjal thank you lola</td>\n",
       "      <td>2</td>\n",
       "    </tr>\n",
       "    <tr>\n",
       "      <th>54</th>\n",
       "      <td>Al veruppikkal Mammotty ude vere oru adipoli v...</td>\n",
       "      <td>1</td>\n",
       "    </tr>\n",
       "    <tr>\n",
       "      <th>58</th>\n",
       "      <td>Dislike adikunavanmaruda oru thandakku vili va...</td>\n",
       "      <td>2</td>\n",
       "    </tr>\n",
       "    <tr>\n",
       "      <th>62</th>\n",
       "      <td>Ni arda vadha beeshani ondakan..patti ..inala ...</td>\n",
       "      <td>1</td>\n",
       "    </tr>\n",
       "    <tr>\n",
       "      <th>69</th>\n",
       "      <td>Ninta channel inu idanta peru goodwill ennalla...</td>\n",
       "      <td>1</td>\n",
       "    </tr>\n",
       "    <tr>\n",
       "      <th>73</th>\n",
       "      <td>Mara paazhu mega mairananil ninnum ethil koodu...</td>\n",
       "      <td>1</td>\n",
       "    </tr>\n",
       "    <tr>\n",
       "      <th>81</th>\n",
       "      <td>Lalettante face kandittu sankadam maatram enna...</td>\n",
       "      <td>1</td>\n",
       "    </tr>\n",
       "    <tr>\n",
       "      <th>85</th>\n",
       "      <td>ഗുഹൻ ഫാൻസ്‌ ഡിസ്‌ലൈക്ക് അടിച്ചു തകർക്കുവാണല്ലോ</td>\n",
       "      <td>0</td>\n",
       "    </tr>\n",
       "    <tr>\n",
       "      <th>95</th>\n",
       "      <td>aa dislike  mikkathum  mohan lal fans aayirikkum</td>\n",
       "      <td>0</td>\n",
       "    </tr>\n",
       "    <tr>\n",
       "      <th>102</th>\n",
       "      <td>മോഡിയുടെ ചെപ്പ കുറ്റി അടിച്ചു പരത്താൻ ആരെങ്കില...</td>\n",
       "      <td>1</td>\n",
       "    </tr>\n",
       "    <tr>\n",
       "      <th>103</th>\n",
       "      <td>Chembu sajin fans dislike adikan thudangiyallo</td>\n",
       "      <td>0</td>\n",
       "    </tr>\n",
       "    <tr>\n",
       "      <th>105</th>\n",
       "      <td>Muttamariyans Mammunni Myra raja team omkv</td>\n",
       "      <td>2</td>\n",
       "    </tr>\n",
       "    <tr>\n",
       "      <th>109</th>\n",
       "      <td>Mammunniyepole oliporallithu Eathu yudham vann...</td>\n",
       "      <td>1</td>\n",
       "    </tr>\n",
       "    <tr>\n",
       "      <th>118</th>\n",
       "      <td>Tharikida sabu ah poorimone kondu varendayirunnu</td>\n",
       "      <td>1</td>\n",
       "    </tr>\n",
       "    <tr>\n",
       "      <th>138</th>\n",
       "      <td>2.7k unlike adicha pengalepanni makkalkku ente...</td>\n",
       "      <td>2</td>\n",
       "    </tr>\n",
       "    <tr>\n",
       "      <th>143</th>\n",
       "      <td>13k dislike kodutha yethu mire** adaaa</td>\n",
       "      <td>2</td>\n",
       "    </tr>\n",
       "    <tr>\n",
       "      <th>145</th>\n",
       "      <td>എന്തൂട്ട് പഴം പുഴുങ്ങിയ ശബ്‍ദം... കോപ്പ്   പറയ...</td>\n",
       "      <td>1</td>\n",
       "    </tr>\n",
       "    <tr>\n",
       "      <th>158</th>\n",
       "      <td>irangunne munne dislike adikkunna thanthakku m...</td>\n",
       "      <td>2</td>\n",
       "    </tr>\n",
       "    <tr>\n",
       "      <th>164</th>\n",
       "      <td>ഡയറക്ടർ സിദ്ധീക്ക് മമ്മൂട്ടിക്ക് മാത്രമേ നല്ല ...</td>\n",
       "      <td>1</td>\n",
       "    </tr>\n",
       "    <tr>\n",
       "      <th>166</th>\n",
       "      <td>Trailer kandal ariyam nalla oombiya padam aanunn</td>\n",
       "      <td>0</td>\n",
       "    </tr>\n",
       "    <tr>\n",
       "      <th>168</th>\n",
       "      <td>Teasr erangunnathinn munne 7 dislike ethe myra...</td>\n",
       "      <td>2</td>\n",
       "    </tr>\n",
       "  </tbody>\n",
       "</table>\n",
       "</div>"
      ],
      "text/plain": [
       "                                              comments  labels\n",
       "1                     Jobi jorge padam ano. Potti mone       1\n",
       "3    ജിമിട്ടൊളികൾ ഇപ്പോളെ unlike അടിച്ചു തുടങ്ങി  അ...       0\n",
       "4    Muriyandikal pannikuutatam pole thurimezhukuva...       0\n",
       "5    Nth bhashayado ith vech ketti malabr bhasha sa...       1\n",
       "9                                   ആരും  കണ്ടേക്കരുതേ       0\n",
       "13   Iyyalkke rest cheyyanulla time aayilla.. kanda...       1\n",
       "23   eda rithwik nine njan theriparjilaloo ennitt n...       2\n",
       "31   Trailer Releasinu munne 6k dislike itta ella p...       2\n",
       "48   Itinum dislike adikkan aalundallo...nallatine ...       2\n",
       "51                 Nalla assal moonjjal thank you lola       2\n",
       "54   Al veruppikkal Mammotty ude vere oru adipoli v...       1\n",
       "58   Dislike adikunavanmaruda oru thandakku vili va...       2\n",
       "62   Ni arda vadha beeshani ondakan..patti ..inala ...       1\n",
       "69   Ninta channel inu idanta peru goodwill ennalla...       1\n",
       "73   Mara paazhu mega mairananil ninnum ethil koodu...       1\n",
       "81   Lalettante face kandittu sankadam maatram enna...       1\n",
       "85      ഗുഹൻ ഫാൻസ്‌ ഡിസ്‌ലൈക്ക് അടിച്ചു തകർക്കുവാണല്ലോ       0\n",
       "95    aa dislike  mikkathum  mohan lal fans aayirikkum       0\n",
       "102  മോഡിയുടെ ചെപ്പ കുറ്റി അടിച്ചു പരത്താൻ ആരെങ്കില...       1\n",
       "103     Chembu sajin fans dislike adikan thudangiyallo       0\n",
       "105         Muttamariyans Mammunni Myra raja team omkv       2\n",
       "109  Mammunniyepole oliporallithu Eathu yudham vann...       1\n",
       "118   Tharikida sabu ah poorimone kondu varendayirunnu       1\n",
       "138  2.7k unlike adicha pengalepanni makkalkku ente...       2\n",
       "143             13k dislike kodutha yethu mire** adaaa       2\n",
       "145  എന്തൂട്ട് പഴം പുഴുങ്ങിയ ശബ്‍ദം... കോപ്പ്   പറയ...       1\n",
       "158  irangunne munne dislike adikkunna thanthakku m...       2\n",
       "164  ഡയറക്ടർ സിദ്ധീക്ക് മമ്മൂട്ടിക്ക് മാത്രമേ നല്ല ...       1\n",
       "166   Trailer kandal ariyam nalla oombiya padam aanunn       0\n",
       "168  Teasr erangunnathinn munne 7 dislike ethe myra...       2"
      ]
     },
     "execution_count": 47,
     "metadata": {},
     "output_type": "execute_result"
    }
   ],
   "source": [
    "df.head(30)"
   ]
  },
  {
   "cell_type": "code",
   "execution_count": 48,
   "metadata": {},
   "outputs": [],
   "source": [
    "X=df['comments']\n",
    "y=df['labels']"
   ]
  },
  {
   "cell_type": "code",
   "execution_count": 49,
   "metadata": {},
   "outputs": [],
   "source": [
    "X_train, X_test, y_train, y_test = train_test_split(X, y, test_size=0.2, random_state=42)\n"
   ]
  },
  {
   "cell_type": "code",
   "execution_count": 50,
   "metadata": {},
   "outputs": [],
   "source": [
    "bert_tokenizer = BertTokenizer.from_pretrained('bert-base-multilingual-cased')\n",
    "bert_model = BertModel.from_pretrained('bert-base-multilingual-cased')"
   ]
  },
  {
   "cell_type": "code",
   "execution_count": 51,
   "metadata": {},
   "outputs": [],
   "source": [
    "# Tokenize the text data and extract mBERT embeddings\n",
    "X_train_embeddings = []\n",
    "X_test_embeddings = []"
   ]
  },
  {
   "cell_type": "code",
   "execution_count": 52,
   "metadata": {},
   "outputs": [],
   "source": [
    "for text in X_train:\n",
    "    tokens = bert_tokenizer(text, padding=True, truncation=True, return_tensors='pt')\n",
    "    with torch.no_grad():\n",
    "        model_output = bert_model(**tokens)\n",
    "    embeddings = model_output['last_hidden_state'].mean(dim=1).squeeze().numpy()\n",
    "    X_train_embeddings.append(embeddings)"
   ]
  },
  {
   "cell_type": "code",
   "execution_count": 53,
   "metadata": {},
   "outputs": [],
   "source": [
    "for text in X_test:\n",
    "    tokens = bert_tokenizer(text, padding=True, truncation=True, return_tensors='pt')\n",
    "    with torch.no_grad():\n",
    "        model_output =bert_model(**tokens)\n",
    "    embeddings = model_output['last_hidden_state'].mean(dim=1).squeeze().numpy()\n",
    "    X_test_embeddings.append(embeddings)"
   ]
  },
  {
   "cell_type": "code",
   "execution_count": 54,
   "metadata": {},
   "outputs": [],
   "source": [
    "# Convert the embeddings to numpy arrays\n",
    "X_train_bert_embeddings = np.array(X_train_embeddings)\n",
    "X_test_bert_embeddings = np.array(X_test_embeddings)"
   ]
  },
  {
   "cell_type": "code",
   "execution_count": 55,
   "metadata": {},
   "outputs": [
    {
     "name": "stdout",
     "output_type": "stream",
     "text": [
      "(816, 768) (816,)\n"
     ]
    }
   ],
   "source": [
    "print(X_train_bert_embeddings.shape, y_train.shape)\n"
   ]
  },
  {
   "cell_type": "code",
   "execution_count": 56,
   "metadata": {},
   "outputs": [
    {
     "data": {
      "text/plain": [
       "DecisionTreeClassifier(random_state=42)"
      ]
     },
     "execution_count": 56,
     "metadata": {},
     "output_type": "execute_result"
    }
   ],
   "source": [
    "from sklearn.tree import DecisionTreeClassifier\n",
    "classifier = DecisionTreeClassifier(random_state=42)\n",
    "classifier.fit(X_train_embeddings, y_train)"
   ]
  },
  {
   "cell_type": "code",
   "execution_count": 57,
   "metadata": {},
   "outputs": [],
   "source": [
    "y_pred = classifier.predict(X_test_embeddings)\n"
   ]
  },
  {
   "cell_type": "code",
   "execution_count": 58,
   "metadata": {},
   "outputs": [],
   "source": [
    "# Evaluate the model\n",
    "accuracy = accuracy_score(y_test, y_pred)\n",
    "report = classification_report(y_test, y_pred)"
   ]
  },
  {
   "cell_type": "code",
   "execution_count": 59,
   "metadata": {},
   "outputs": [
    {
     "name": "stdout",
     "output_type": "stream",
     "text": [
      "Accuracy: 60.78%\n",
      "Classification Report:\n",
      "               precision    recall  f1-score   support\n",
      "\n",
      "           0       0.41      0.48      0.44        44\n",
      "           1       0.71      0.70      0.71       100\n",
      "           2       0.60      0.55      0.57        60\n",
      "\n",
      "    accuracy                           0.61       204\n",
      "   macro avg       0.58      0.58      0.57       204\n",
      "weighted avg       0.62      0.61      0.61       204\n",
      "\n"
     ]
    }
   ],
   "source": [
    "print(\"Accuracy: {:.2f}%\".format(accuracy * 100))\n",
    "print(\"Classification Report:\\n\", report)"
   ]
  },
  {
   "cell_type": "code",
   "execution_count": 60,
   "metadata": {},
   "outputs": [
    {
     "name": "stdout",
     "output_type": "stream",
     "text": [
      "Predicted Label: [0]\n"
     ]
    }
   ],
   "source": [
    "note = ['ജിമിട്ടൊളികൾ ഇപ്പോളെ unlike അടിച്ചു തുടങ്ങി  അസുരൻ loading..']\n",
    "tokens = bert_tokenizer(note, padding=True, truncation=True, return_tensors='pt')\n",
    "with torch.no_grad():\n",
    "    model_output = bert_model(**tokens)\n",
    "embeddings = model_output['last_hidden_state'].mean(dim=1).squeeze().numpy()\n",
    "\n",
    "\n",
    "input_embedding = embeddings.reshape(1, -1)  \n",
    "\n",
    "predicted_label = classifier.predict(input_embedding)\n",
    "\n",
    "\n",
    "print(\"Predicted Label:\", predicted_label)"
   ]
  },
  {
   "cell_type": "code",
   "execution_count": 61,
   "metadata": {},
   "outputs": [],
   "source": [
    "results_df = pd.DataFrame({'Actual_Labels': y_test.values, 'Predicted_Labels': y_pred})\n",
    "results_df['Actual_Labels'] = results_df['Actual_Labels'].replace({0: 'Offensive_Targeted_Insult_Group', 1: 'Offensive_Targeted_Insult_Individual',2:'Offensive_Untargetede'})\n",
    "results_df['Predicted_Labels'] = results_df['Predicted_Labels'].replace({0: 'Offensive_Targeted_Insult_Group', 1: 'Offensive_Targeted_Insult_Individual',2:'Offensive_Untargetede'})\n"
   ]
  },
  {
   "cell_type": "code",
   "execution_count": 62,
   "metadata": {},
   "outputs": [
    {
     "data": {
      "text/html": [
       "<div>\n",
       "<style scoped>\n",
       "    .dataframe tbody tr th:only-of-type {\n",
       "        vertical-align: middle;\n",
       "    }\n",
       "\n",
       "    .dataframe tbody tr th {\n",
       "        vertical-align: top;\n",
       "    }\n",
       "\n",
       "    .dataframe thead th {\n",
       "        text-align: right;\n",
       "    }\n",
       "</style>\n",
       "<table border=\"1\" class=\"dataframe\">\n",
       "  <thead>\n",
       "    <tr style=\"text-align: right;\">\n",
       "      <th></th>\n",
       "      <th>Actual_Labels</th>\n",
       "      <th>Predicted_Labels</th>\n",
       "    </tr>\n",
       "  </thead>\n",
       "  <tbody>\n",
       "    <tr>\n",
       "      <th>0</th>\n",
       "      <td>Offensive_Targeted_Insult_Individual</td>\n",
       "      <td>Offensive_Untargetede</td>\n",
       "    </tr>\n",
       "    <tr>\n",
       "      <th>1</th>\n",
       "      <td>Offensive_Targeted_Insult_Individual</td>\n",
       "      <td>Offensive_Targeted_Insult_Individual</td>\n",
       "    </tr>\n",
       "    <tr>\n",
       "      <th>2</th>\n",
       "      <td>Offensive_Targeted_Insult_Group</td>\n",
       "      <td>Offensive_Targeted_Insult_Group</td>\n",
       "    </tr>\n",
       "    <tr>\n",
       "      <th>3</th>\n",
       "      <td>Offensive_Targeted_Insult_Group</td>\n",
       "      <td>Offensive_Targeted_Insult_Individual</td>\n",
       "    </tr>\n",
       "    <tr>\n",
       "      <th>4</th>\n",
       "      <td>Offensive_Targeted_Insult_Individual</td>\n",
       "      <td>Offensive_Targeted_Insult_Individual</td>\n",
       "    </tr>\n",
       "    <tr>\n",
       "      <th>5</th>\n",
       "      <td>Offensive_Targeted_Insult_Individual</td>\n",
       "      <td>Offensive_Targeted_Insult_Individual</td>\n",
       "    </tr>\n",
       "    <tr>\n",
       "      <th>6</th>\n",
       "      <td>Offensive_Untargetede</td>\n",
       "      <td>Offensive_Untargetede</td>\n",
       "    </tr>\n",
       "    <tr>\n",
       "      <th>7</th>\n",
       "      <td>Offensive_Targeted_Insult_Individual</td>\n",
       "      <td>Offensive_Targeted_Insult_Group</td>\n",
       "    </tr>\n",
       "    <tr>\n",
       "      <th>8</th>\n",
       "      <td>Offensive_Targeted_Insult_Individual</td>\n",
       "      <td>Offensive_Targeted_Insult_Individual</td>\n",
       "    </tr>\n",
       "    <tr>\n",
       "      <th>9</th>\n",
       "      <td>Offensive_Targeted_Insult_Individual</td>\n",
       "      <td>Offensive_Targeted_Insult_Individual</td>\n",
       "    </tr>\n",
       "  </tbody>\n",
       "</table>\n",
       "</div>"
      ],
      "text/plain": [
       "                          Actual_Labels                      Predicted_Labels\n",
       "0  Offensive_Targeted_Insult_Individual                 Offensive_Untargetede\n",
       "1  Offensive_Targeted_Insult_Individual  Offensive_Targeted_Insult_Individual\n",
       "2       Offensive_Targeted_Insult_Group       Offensive_Targeted_Insult_Group\n",
       "3       Offensive_Targeted_Insult_Group  Offensive_Targeted_Insult_Individual\n",
       "4  Offensive_Targeted_Insult_Individual  Offensive_Targeted_Insult_Individual\n",
       "5  Offensive_Targeted_Insult_Individual  Offensive_Targeted_Insult_Individual\n",
       "6                 Offensive_Untargetede                 Offensive_Untargetede\n",
       "7  Offensive_Targeted_Insult_Individual       Offensive_Targeted_Insult_Group\n",
       "8  Offensive_Targeted_Insult_Individual  Offensive_Targeted_Insult_Individual\n",
       "9  Offensive_Targeted_Insult_Individual  Offensive_Targeted_Insult_Individual"
      ]
     },
     "execution_count": 62,
     "metadata": {},
     "output_type": "execute_result"
    }
   ],
   "source": [
    "results_df.head(10)"
   ]
  },
  {
   "cell_type": "code",
   "execution_count": 63,
   "metadata": {},
   "outputs": [
    {
     "data": {
      "text/plain": [
       "['decision_model.joblib']"
      ]
     },
     "execution_count": 63,
     "metadata": {},
     "output_type": "execute_result"
    }
   ],
   "source": [
    "joblib.dump(classifier, 'decision_model.joblib')\n"
   ]
  }
 ],
 "metadata": {
  "kernelspec": {
   "display_name": "Python 3",
   "language": "python",
   "name": "python3"
  },
  "language_info": {
   "codemirror_mode": {
    "name": "ipython",
    "version": 3
   },
   "file_extension": ".py",
   "mimetype": "text/x-python",
   "name": "python",
   "nbconvert_exporter": "python",
   "pygments_lexer": "ipython3",
   "version": "3.9.13"
  }
 },
 "nbformat": 4,
 "nbformat_minor": 2
}
